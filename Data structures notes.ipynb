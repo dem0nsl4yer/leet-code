{
 "cells": [
  {
   "attachments": {},
   "cell_type": "markdown",
   "metadata": {},
   "source": [
    "## Types of data structures\n",
    "\n",
    "Array - sequentially - one after another in memory - indexed data- direct access with index\\\n",
    "Python lists are similar to arrays, but not limited to singular data types.  <b>python list and arryas are not same </b> \\\n",
    "Smallest footprint, as contiguously stored. \n",
    "Time - lookup/push O(1) | insert/delete O(n)\\\n",
    "<b> remove should ideally not work, but works in python as array in python is a wrapper on list </b>\\\n",
    "Array list operators - add/append, insert, index, remove. \n",
    "\\\n",
    "\\\n",
    "Hash tables.\\\n",
    "Linked list.\\\n",
    "Stacks - LIFO\\\n",
    "Queues. - FIFO\\\n",
    "Trees .\\\n",
    "Tries.\\\n",
    "Graphs .\\\n",
    "\n"
   ]
  },
  {
   "cell_type": "code",
   "execution_count": 6,
   "metadata": {},
   "outputs": [],
   "source": [
    "b = [3, 3, 4]"
   ]
  },
  {
   "cell_type": "code",
   "execution_count": 7,
   "metadata": {},
   "outputs": [],
   "source": [
    "z = {x: b.index(x) for x in b}"
   ]
  },
  {
   "cell_type": "code",
   "execution_count": 24,
   "metadata": {},
   "outputs": [],
   "source": [
    "a = \"08-15\""
   ]
  },
  {
   "cell_type": "code",
   "execution_count": 26,
   "metadata": {},
   "outputs": [
    {
     "name": "stdout",
     "output_type": "stream",
     "text": [
      "08\n"
     ]
    }
   ],
   "source": [
    "c, d = a.split('-')\n",
    "print(c)"
   ]
  },
  {
   "cell_type": "code",
   "execution_count": 8,
   "metadata": {},
   "outputs": [
    {
     "name": "stdout",
     "output_type": "stream",
     "text": [
      "{3: 0, 4: 2}\n"
     ]
    }
   ],
   "source": [
    "print(z)"
   ]
  },
  {
   "cell_type": "code",
   "execution_count": 11,
   "metadata": {},
   "outputs": [
    {
     "name": "stdout",
     "output_type": "stream",
     "text": [
      "0\n"
     ]
    }
   ],
   "source": [
    "print(z[3])"
   ]
  },
  {
   "cell_type": "code",
   "execution_count": 12,
   "metadata": {},
   "outputs": [],
   "source": [
    "# Array in python. \n",
    "import sys\n",
    "import array as arr\n",
    "# Need to follow syntax: variable_name = array(typecode,[elements])\n",
    "d = arr.array('i', [10, 12, 14, 17])\n",
    "#arr.array('s', ['a', 'b', 'c', 'd'])\n",
    "# Arrays of the array module are a thin wrapper over C arrays.\n",
    "# useful when you want to work with homogeneous data.\n",
    "\n",
    "#for i in d:\n",
    "#    print(i, hex(id(i)), type(i), sys.getsizeof(i))\n",
    "\n"
   ]
  },
  {
   "cell_type": "code",
   "execution_count": 13,
   "metadata": {},
   "outputs": [
    {
     "name": "stdout",
     "output_type": "stream",
     "text": [
      "array('i', [10, 12, 14])\n",
      "array('i', [17])\n"
     ]
    }
   ],
   "source": [
    "#spilicing the array. If length unknown, use -1 for last element. \n",
    "\n",
    "print(d[:-1])\n",
    "print(d[-1:])"
   ]
  },
  {
   "cell_type": "code",
   "execution_count": 14,
   "metadata": {},
   "outputs": [
    {
     "name": "stdout",
     "output_type": "stream",
     "text": [
      "array('i', [10, 12, 14, 17, 50])\n"
     ]
    }
   ],
   "source": [
    "#Adding elements to the array/ Append and remove to operate. \n",
    "\n",
    "\n",
    "# Remove removes the first occurence of the element. \n",
    "d.append(50)\n",
    "print(d)"
   ]
  },
  {
   "cell_type": "code",
   "execution_count": 15,
   "metadata": {},
   "outputs": [
    {
     "name": "stdout",
     "output_type": "stream",
     "text": [
      "array('i', [10, 12, 14, 17, 50])\n"
     ]
    },
    {
     "ename": "AttributeError",
     "evalue": "'array.array' object has no attribute 'push'",
     "output_type": "error",
     "traceback": [
      "\u001b[0;31m---------------------------------------------------------------------------\u001b[0m",
      "\u001b[0;31mAttributeError\u001b[0m                            Traceback (most recent call last)",
      "Cell \u001b[0;32mIn[15], line 6\u001b[0m\n\u001b[1;32m      4\u001b[0m \u001b[39mprint\u001b[39m(d)\n\u001b[1;32m      5\u001b[0m \u001b[39m#print(f'popped element is {d.pop()}')\u001b[39;00m\n\u001b[0;32m----> 6\u001b[0m \u001b[39mprint\u001b[39m(\u001b[39mf\u001b[39m\u001b[39m'\u001b[39m\u001b[39mpopped element is \u001b[39m\u001b[39m{\u001b[39;00md\u001b[39m.\u001b[39;49mpush(\u001b[39m20\u001b[39m)\u001b[39m}\u001b[39;00m\u001b[39m'\u001b[39m)\n\u001b[1;32m      7\u001b[0m \u001b[39mprint\u001b[39m(d)\n",
      "\u001b[0;31mAttributeError\u001b[0m: 'array.array' object has no attribute 'push'"
     ]
    }
   ],
   "source": [
    "# popping element - if element not defined, removes the last available element. \n",
    "# When not looping through anything, last item is removed/added - pop/push - O(1). \n",
    "#d.pop(2)\n",
    "print(d)\n",
    "#print(f'popped element is {d.pop()}')\n",
    "print(f'popped element is {d.push(20)}')\n",
    "print(d)"
   ]
  },
  {
   "cell_type": "code",
   "execution_count": 16,
   "metadata": {},
   "outputs": [
    {
     "name": "stdout",
     "output_type": "stream",
     "text": [
      "True\n"
     ]
    }
   ],
   "source": [
    "search = [12, 14]\n",
    "if search[1] in d:\n",
    "    print(True)\n",
    "else:\n",
    "    print(False)"
   ]
  },
  {
   "cell_type": "code",
   "execution_count": 17,
   "metadata": {},
   "outputs": [],
   "source": [
    "# Leetcode.\n",
    "from typing import List \n",
    "class Solution:\n",
    "    def buildArray(self, nums: List[int], n: int) -> List[int]:\n",
    "        lis = []\n",
    "        for i in range(len(nums)):\n",
    "            if n- nums[i] >0 and n- nums[i] in nums:\n",
    "                lis.append(i)\n",
    "                lis.append(nums.index(n- nums[i]))\n",
    "                return lis \n",
    "        return False "
   ]
  },
  {
   "cell_type": "code",
   "execution_count": 18,
   "metadata": {},
   "outputs": [
    {
     "name": "stdout",
     "output_type": "stream",
     "text": [
      "[0, 1]\n"
     ]
    }
   ],
   "source": [
    "p1 = Solution.buildArray(d, nums=[2,7,11,15], n = 9)\n",
    "print(p1)"
   ]
  },
  {
   "cell_type": "code",
   "execution_count": 19,
   "metadata": {},
   "outputs": [],
   "source": [
    "# Leetcode - can do in a single loop by using the dictionary. \n",
    "from typing import List \n",
    "class Solution:\n",
    "    def buildArray2(self, nums: List[int]) -> List[int]:\n",
    "        d = {}\n",
    "        count = 0\n",
    "        for i in nums:\n",
    "            if i in d:\n",
    "                count += d[i]\n",
    "                d[i] +=1\n",
    "            else:\n",
    "                d[i] = 1\n",
    "        return count, d"
   ]
  },
  {
   "cell_type": "code",
   "execution_count": 20,
   "metadata": {},
   "outputs": [
    {
     "name": "stdout",
     "output_type": "stream",
     "text": [
      "(4, {1: 3, 2: 1, 3: 2})\n"
     ]
    }
   ],
   "source": [
    "p1 = Solution.buildArray2(d, nums=[1,2,3,1,1,3])\n",
    "print(p1)"
   ]
  },
  {
   "cell_type": "code",
   "execution_count": 21,
   "metadata": {},
   "outputs": [],
   "source": [
    "# String prefix. \n",
    "class Solution:\n",
    "    def longestCommonPrefix(self, strs: List[str]) -> str:\n",
    "      #  print(strs)\n",
    "        d = ''\n",
    "        counter = 0 \n",
    "        for j in range(len(strs[0])):\n",
    "            for i in range(len(strs)):\n",
    "                if strs[0][j] != strs[i][j]:\n",
    "                    return d\n",
    "            d += strs[0][j] \n",
    "        return d\n",
    "\n",
    "\n",
    "\n"
   ]
  },
  {
   "cell_type": "code",
   "execution_count": 22,
   "metadata": {},
   "outputs": [
    {
     "name": "stdout",
     "output_type": "stream",
     "text": [
      "fl\n"
     ]
    }
   ],
   "source": [
    "p1 = Solution.longestCommonPrefix(d, strs = [\"flower\",\"flow\",\"flight\"])\n",
    "print(p1)"
   ]
  },
  {
   "cell_type": "code",
   "execution_count": 23,
   "metadata": {},
   "outputs": [
    {
     "name": "stdout",
     "output_type": "stream",
     "text": [
      "flight and flower\n"
     ]
    }
   ],
   "source": [
    "strs = [\"flower\",\"flow\",\"flight\"]\n",
    "first, last = min(strs), max(strs)\n",
    "prefix  = ''\n",
    "print(\"{} and {}\".format(first,last))"
   ]
  },
  {
   "cell_type": "code",
   "execution_count": null,
   "metadata": {},
   "outputs": [],
   "source": [
    "# String prefix. \n",
    "class Solution:\n",
    "    def strStr(self, haystack: str, needle: str) -> str:\n",
    "      #  print(strs)\n",
    "        if needle not in haystack:\n",
    "            return -1 \n",
    "        else:\n",
    "          for i in range(len(haystack)):\n",
    "              if haystack[i] == needle[0]:\n",
    "                if haystack[i: i + len(needle)] == needle:\n",
    "                  return i\n",
    "              else:\n",
    "                 continue \n",
    "# Remove fluff: no need of later continue, the first if statement also not needed. \n",
    "# Can filter more with conditional if len(haystack) <len(needle) : return -1. "
   ]
  },
  {
   "cell_type": "code",
   "execution_count": null,
   "metadata": {},
   "outputs": [
    {
     "name": "stdout",
     "output_type": "stream",
     "text": [
      "-1\n"
     ]
    }
   ],
   "source": [
    "p1 = Solution.strStr(d, haystack = \"leetcode\", needle = \"leeto\")\n",
    "print(p1)"
   ]
  },
  {
   "attachments": {},
   "cell_type": "markdown",
   "metadata": {},
   "source": [
    "## Types of algorithms to be used\n",
    "\n",
    "Sorting\\\n",
    "Dynamic Programming\\\n",
    "BFS + DFS\\\n",
    "RecursionError "
   ]
  },
  {
   "cell_type": "markdown",
   "metadata": {},
   "source": []
  },
  {
   "cell_type": "code",
   "execution_count": null,
   "metadata": {},
   "outputs": [],
   "source": [
    "# Next data strcture to work on is hash tables, then linked lists. "
   ]
  }
 ],
 "metadata": {
  "kernelspec": {
   "display_name": "Python 3",
   "language": "python",
   "name": "python3"
  },
  "language_info": {
   "codemirror_mode": {
    "name": "ipython",
    "version": 3
   },
   "file_extension": ".py",
   "mimetype": "text/x-python",
   "name": "python",
   "nbconvert_exporter": "python",
   "pygments_lexer": "ipython3",
   "version": "3.11.4"
  },
  "orig_nbformat": 4
 },
 "nbformat": 4,
 "nbformat_minor": 2
}
