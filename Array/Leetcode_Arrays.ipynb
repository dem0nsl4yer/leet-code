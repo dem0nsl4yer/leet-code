{
 "cells": [
  {
   "cell_type": "markdown",
   "metadata": {},
   "source": [
    "Two SUM:\n"
   ]
  },
  {
   "cell_type": "code",
   "execution_count": 2,
   "metadata": {},
   "outputs": [],
   "source": [
    "from typing import List"
   ]
  },
  {
   "cell_type": "code",
   "execution_count": null,
   "metadata": {},
   "outputs": [],
   "source": [
    "class Solution:\n",
    "    def twoSum(self, nums: List[int], target: int) -> List[int]:\n",
    "        #hashmap = {i:nums.index(i) for i in nums}\n",
    "        z = {}\n",
    "        for i, x in enumerate(nums):\n",
    "            if x in z:\n",
    "                z[x].append(i)\n",
    "            else:\n",
    "                z[x] = [i]\n",
    "        for i in nums:\n",
    "            if target-i in nums:\n",
    "                if target-i == i:\n",
    "                    if len(z[i]) > 1:\n",
    "                        return z[i]\n",
    "                    continue\n",
    "                else: \n",
    "                    return [z[i][0], z[target-i][0]]\n",
    "                \n",
    "                \n",
    "        "
   ]
  },
  {
   "cell_type": "code",
   "execution_count": null,
   "metadata": {},
   "outputs": [],
   "source": [
    "class Solution:\n",
    "    def twoSum(self, nums: List[int], target: int) -> List[int]:\n",
    "        #hashmap = {i:nums.index(i) for i in nums}\n",
    "        mem = {}\n",
    "        for i, x in enumerate(nums):\n",
    "            if x in mem:\n",
    "                return [i, mem[x]]\n",
    "            else:\n",
    "                mem[target-x] = i  "
   ]
  },
  {
   "cell_type": "code",
   "execution_count": 15,
   "metadata": {},
   "outputs": [],
   "source": [
    "class sol1:\n",
    "    def maxProfit(self, prices: List[int]) -> int:\n",
    "        buy = 0 \n",
    "        b_key = buy  \n",
    "        sell = len(prices)-1\n",
    "        s_key = sell\n",
    "        p_max = 0 \n",
    "        while s_key > b_key:\n",
    "            if prices[buy] > prices[buy+1]:\n",
    "                buy = buy + 1\n",
    "                b_key += 1\n",
    "            elif prices[sell] < prices[sell-1]:\n",
    "                sell = sell - 1\n",
    "                s_key -= 1\n",
    "            print(f'buy is - {buy}')\n",
    "            print(f'sell is - {sell}')\n",
    "        return prices[sell] - prices[buy] "
   ]
  },
  {
   "cell_type": "code",
   "execution_count": 4,
   "metadata": {},
   "outputs": [],
   "source": [
    "prices = [7,1,5,3,6,4]"
   ]
  },
  {
   "cell_type": "code",
   "execution_count": 16,
   "metadata": {},
   "outputs": [],
   "source": [
    "# create an instance of class. \n",
    "\n",
    "sol = sol1()"
   ]
  },
  {
   "cell_type": "code",
   "execution_count": 17,
   "metadata": {},
   "outputs": [
    {
     "name": "stdout",
     "output_type": "stream",
     "text": [
      "buy is - 1\n",
      "sell is - 1\n"
     ]
    },
    {
     "data": {
      "text/plain": [
       "0"
      ]
     },
     "execution_count": 17,
     "metadata": {},
     "output_type": "execute_result"
    }
   ],
   "source": [
    "sol.maxProfit(prices)"
   ]
  },
  {
   "cell_type": "code",
   "execution_count": 18,
   "metadata": {},
   "outputs": [
    {
     "name": "stdout",
     "output_type": "stream",
     "text": [
      "buy is - 1\n",
      "sell is - 1\n"
     ]
    },
    {
     "data": {
      "text/plain": [
       "0"
      ]
     },
     "execution_count": 18,
     "metadata": {},
     "output_type": "execute_result"
    }
   ],
   "source": [
    "prices = [2,1]\n",
    "sol.maxProfit(prices)"
   ]
  },
  {
   "cell_type": "code",
   "execution_count": 107,
   "metadata": {},
   "outputs": [],
   "source": [
    "nums = [1,2,-1,-2,2,1,-2,1,4,-5,4]"
   ]
  },
  {
   "cell_type": "code",
   "execution_count": 108,
   "metadata": {},
   "outputs": [],
   "source": [
    "class sol2:\n",
    "    def maxSubArray(self, nums: List[int]) -> int: \n",
    "        left = 0\n",
    "        right = len(nums)-1\n",
    "        max_sum = sum(nums)\n",
    "        sum1 = sum(nums)\n",
    "        while left < right:\n",
    "            max_sum = max(max_sum, sum1)\n",
    "            if nums[left] < nums[right]:\n",
    "                sum1 -= nums[left]\n",
    "                left += 1\n",
    "            else:\n",
    "                sum1 -= nums[right]\n",
    "                right -= 1\n",
    "            print(f'left is {left}')\n",
    "            print(f'right is {right}')\n",
    "            print(f'sum is {max_sum}')\n",
    "        return max(max_sum, sum1)"
   ]
  },
  {
   "cell_type": "code",
   "execution_count": 109,
   "metadata": {},
   "outputs": [],
   "source": [
    "sol = sol2()"
   ]
  },
  {
   "cell_type": "code",
   "execution_count": 104,
   "metadata": {},
   "outputs": [],
   "source": [
    "nums =[-2,1]"
   ]
  },
  {
   "cell_type": "code",
   "execution_count": 105,
   "metadata": {},
   "outputs": [
    {
     "data": {
      "text/plain": [
       "2"
      ]
     },
     "execution_count": 105,
     "metadata": {},
     "output_type": "execute_result"
    }
   ],
   "source": [
    "len(nums)"
   ]
  },
  {
   "cell_type": "code",
   "execution_count": 110,
   "metadata": {},
   "outputs": [
    {
     "name": "stdout",
     "output_type": "stream",
     "text": [
      "left is 1\n",
      "right is 10\n",
      "sum is 5\n",
      "left is 2\n",
      "right is 10\n",
      "sum is 5\n",
      "left is 3\n",
      "right is 10\n",
      "sum is 5\n",
      "left is 4\n",
      "right is 10\n",
      "sum is 5\n",
      "left is 5\n",
      "right is 10\n",
      "sum is 5\n",
      "left is 6\n",
      "right is 10\n",
      "sum is 5\n",
      "left is 7\n",
      "right is 10\n",
      "sum is 5\n",
      "left is 8\n",
      "right is 10\n",
      "sum is 5\n",
      "left is 8\n",
      "right is 9\n",
      "sum is 5\n",
      "left is 8\n",
      "right is 8\n",
      "sum is 5\n"
     ]
    },
    {
     "data": {
      "text/plain": [
       "5"
      ]
     },
     "execution_count": 110,
     "metadata": {},
     "output_type": "execute_result"
    }
   ],
   "source": [
    "sol.maxSubArray(nums)"
   ]
  },
  {
   "cell_type": "code",
   "execution_count": 87,
   "metadata": {},
   "outputs": [
    {
     "data": {
      "text/plain": [
       "1"
      ]
     },
     "execution_count": 87,
     "metadata": {},
     "output_type": "execute_result"
    }
   ],
   "source": [
    "max(nums)"
   ]
  },
  {
   "cell_type": "code",
   "execution_count": 91,
   "metadata": {},
   "outputs": [],
   "source": [
    "intervals = [[1,3],[2,7],[8,10],[15,18]]"
   ]
  },
  {
   "cell_type": "code",
   "execution_count": 92,
   "metadata": {},
   "outputs": [
    {
     "data": {
      "text/plain": [
       "[1, 3]"
      ]
     },
     "execution_count": 92,
     "metadata": {},
     "output_type": "execute_result"
    }
   ],
   "source": [
    "intervals[0]"
   ]
  },
  {
   "cell_type": "code",
   "execution_count": 93,
   "metadata": {},
   "outputs": [],
   "source": [
    "class Solution:\n",
    "    def merge(self, intervals: List[List[int]]) -> List[List[int]]:\n",
    "        low = []\n",
    "        high = []\n",
    "        result = []\n",
    "        for i in intervals:\n",
    "            #print(i[0])\n",
    "            low.append(i[0])\n",
    "            high.append(i[1])\n",
    "        temp = high[0]\n",
    "        lo = 0\n",
    "        for i in range(1, len(low)):\n",
    "            if temp > low[i]:\n",
    "                temp = high[i]\n",
    "   #             key = i \n",
    "            else:\n",
    "                result.append([low[lo], high[i-1]])\n",
    "                lo = i\n",
    "        return (result)\n"
   ]
  },
  {
   "cell_type": "code",
   "execution_count": 94,
   "metadata": {},
   "outputs": [],
   "source": [
    "b = Solution()"
   ]
  },
  {
   "cell_type": "code",
   "execution_count": 95,
   "metadata": {},
   "outputs": [
    {
     "data": {
      "text/plain": [
       "[[1, 7], [8, 10]]"
      ]
     },
     "execution_count": 95,
     "metadata": {},
     "output_type": "execute_result"
    }
   ],
   "source": [
    "b.merge(intervals)"
   ]
  },
  {
   "cell_type": "code",
   "execution_count": null,
   "metadata": {},
   "outputs": [],
   "source": []
  },
  {
   "cell_type": "code",
   "execution_count": null,
   "metadata": {},
   "outputs": [],
   "source": []
  }
 ],
 "metadata": {
  "kernelspec": {
   "display_name": "base",
   "language": "python",
   "name": "python3"
  },
  "language_info": {
   "codemirror_mode": {
    "name": "ipython",
    "version": 3
   },
   "file_extension": ".py",
   "mimetype": "text/x-python",
   "name": "python",
   "nbconvert_exporter": "python",
   "pygments_lexer": "ipython3",
   "version": "3.9.5"
  },
  "orig_nbformat": 4
 },
 "nbformat": 4,
 "nbformat_minor": 2
}
