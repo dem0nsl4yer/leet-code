{
 "cells": [
  {
   "attachments": {},
   "cell_type": "markdown",
   "metadata": {},
   "source": [
    "Two SUM:\n"
   ]
  },
  {
   "cell_type": "code",
   "execution_count": 2,
   "metadata": {},
   "outputs": [],
   "source": [
    "from typing import List"
   ]
  },
  {
   "cell_type": "code",
   "execution_count": null,
   "metadata": {},
   "outputs": [],
   "source": [
    "class Solution:\n",
    "    def twoSum(self, nums: List[int], target: int) -> List[int]:\n",
    "        #hashmap = {i:nums.index(i) for i in nums}\n",
    "        z = {}\n",
    "        for i, x in enumerate(nums):\n",
    "            if x in z:\n",
    "                z[x].append(i)\n",
    "            else:\n",
    "                z[x] = [i]\n",
    "        for i in nums:\n",
    "            if target-i in nums:\n",
    "                if target-i == i:\n",
    "                    if len(z[i]) > 1:\n",
    "                        return z[i]\n",
    "                    continue\n",
    "                else: \n",
    "                    return [z[i][0], z[target-i][0]]\n",
    "                \n",
    "                \n",
    "        "
   ]
  },
  {
   "cell_type": "code",
   "execution_count": null,
   "metadata": {},
   "outputs": [],
   "source": [
    "class Solution:\n",
    "    def twoSum(self, nums: List[int], target: int) -> List[int]:\n",
    "        #hashmap = {i:nums.index(i) for i in nums}\n",
    "        mem = {}\n",
    "        for i, x in enumerate(nums):\n",
    "            if x in mem:\n",
    "                return [i, mem[x]]\n",
    "            else:\n",
    "                mem[target-x] = i  "
   ]
  },
  {
   "cell_type": "code",
   "execution_count": 15,
   "metadata": {},
   "outputs": [],
   "source": [
    "class sol1:\n",
    "    def maxProfit(self, prices: List[int]) -> int:\n",
    "        buy = 0 \n",
    "        b_key = buy  \n",
    "        sell = len(prices)-1\n",
    "        s_key = sell\n",
    "        p_max = 0 \n",
    "        while s_key > b_key:\n",
    "            if prices[buy] > prices[buy+1]:\n",
    "                buy = buy + 1\n",
    "                b_key += 1\n",
    "            elif prices[sell] < prices[sell-1]:\n",
    "                sell = sell - 1\n",
    "                s_key -= 1\n",
    "            print(f'buy is - {buy}')\n",
    "            print(f'sell is - {sell}')\n",
    "        return prices[sell] - prices[buy] "
   ]
  },
  {
   "cell_type": "code",
   "execution_count": 4,
   "metadata": {},
   "outputs": [],
   "source": [
    "prices = [7,1,5,3,6,4]"
   ]
  },
  {
   "cell_type": "code",
   "execution_count": 16,
   "metadata": {},
   "outputs": [],
   "source": [
    "# create an instance of class. \n",
    "\n",
    "sol = sol1()"
   ]
  },
  {
   "cell_type": "code",
   "execution_count": 17,
   "metadata": {},
   "outputs": [
    {
     "name": "stdout",
     "output_type": "stream",
     "text": [
      "buy is - 1\n",
      "sell is - 1\n"
     ]
    },
    {
     "data": {
      "text/plain": [
       "0"
      ]
     },
     "execution_count": 17,
     "metadata": {},
     "output_type": "execute_result"
    }
   ],
   "source": [
    "sol.maxProfit(prices)"
   ]
  },
  {
   "cell_type": "code",
   "execution_count": 18,
   "metadata": {},
   "outputs": [
    {
     "name": "stdout",
     "output_type": "stream",
     "text": [
      "buy is - 1\n",
      "sell is - 1\n"
     ]
    },
    {
     "data": {
      "text/plain": [
       "0"
      ]
     },
     "execution_count": 18,
     "metadata": {},
     "output_type": "execute_result"
    }
   ],
   "source": [
    "prices = [2,1]\n",
    "sol.maxProfit(prices)"
   ]
  },
  {
   "cell_type": "code",
   "execution_count": 107,
   "metadata": {},
   "outputs": [],
   "source": [
    "nums = [1,2,-1,-2,2,1,-2,1,4,-5,4]"
   ]
  },
  {
   "cell_type": "code",
   "execution_count": 108,
   "metadata": {},
   "outputs": [],
   "source": [
    "class sol2:\n",
    "    def maxSubArray(self, nums: List[int]) -> int: \n",
    "        left = 0\n",
    "        right = len(nums)-1\n",
    "        max_sum = sum(nums)\n",
    "        sum1 = sum(nums)\n",
    "        while left < right:\n",
    "            max_sum = max(max_sum, sum1)\n",
    "            if nums[left] < nums[right]:\n",
    "                sum1 -= nums[left]\n",
    "                left += 1\n",
    "            else:\n",
    "                sum1 -= nums[right]\n",
    "                right -= 1\n",
    "            print(f'left is {left}')\n",
    "            print(f'right is {right}')\n",
    "            print(f'sum is {max_sum}')\n",
    "        return max(max_sum, sum1)"
   ]
  },
  {
   "cell_type": "code",
   "execution_count": 109,
   "metadata": {},
   "outputs": [],
   "source": [
    "sol = sol2()"
   ]
  },
  {
   "cell_type": "code",
   "execution_count": 104,
   "metadata": {},
   "outputs": [],
   "source": [
    "nums =[-2,1]"
   ]
  },
  {
   "cell_type": "code",
   "execution_count": 105,
   "metadata": {},
   "outputs": [
    {
     "data": {
      "text/plain": [
       "2"
      ]
     },
     "execution_count": 105,
     "metadata": {},
     "output_type": "execute_result"
    }
   ],
   "source": [
    "len(nums)"
   ]
  },
  {
   "cell_type": "code",
   "execution_count": 110,
   "metadata": {},
   "outputs": [
    {
     "name": "stdout",
     "output_type": "stream",
     "text": [
      "left is 1\n",
      "right is 10\n",
      "sum is 5\n",
      "left is 2\n",
      "right is 10\n",
      "sum is 5\n",
      "left is 3\n",
      "right is 10\n",
      "sum is 5\n",
      "left is 4\n",
      "right is 10\n",
      "sum is 5\n",
      "left is 5\n",
      "right is 10\n",
      "sum is 5\n",
      "left is 6\n",
      "right is 10\n",
      "sum is 5\n",
      "left is 7\n",
      "right is 10\n",
      "sum is 5\n",
      "left is 8\n",
      "right is 10\n",
      "sum is 5\n",
      "left is 8\n",
      "right is 9\n",
      "sum is 5\n",
      "left is 8\n",
      "right is 8\n",
      "sum is 5\n"
     ]
    },
    {
     "data": {
      "text/plain": [
       "5"
      ]
     },
     "execution_count": 110,
     "metadata": {},
     "output_type": "execute_result"
    }
   ],
   "source": [
    "sol.maxSubArray(nums)"
   ]
  },
  {
   "cell_type": "code",
   "execution_count": 87,
   "metadata": {},
   "outputs": [
    {
     "data": {
      "text/plain": [
       "1"
      ]
     },
     "execution_count": 87,
     "metadata": {},
     "output_type": "execute_result"
    }
   ],
   "source": [
    "max(nums)"
   ]
  },
  {
   "cell_type": "code",
   "execution_count": 91,
   "metadata": {},
   "outputs": [],
   "source": [
    "intervals = [[1,3],[2,7],[8,10],[15,18]]"
   ]
  },
  {
   "cell_type": "code",
   "execution_count": 92,
   "metadata": {},
   "outputs": [
    {
     "data": {
      "text/plain": [
       "[1, 3]"
      ]
     },
     "execution_count": 92,
     "metadata": {},
     "output_type": "execute_result"
    }
   ],
   "source": [
    "intervals[0]"
   ]
  },
  {
   "cell_type": "code",
   "execution_count": 93,
   "metadata": {},
   "outputs": [],
   "source": [
    "class Solution:\n",
    "    def merge(self, intervals: List[List[int]]) -> List[List[int]]:\n",
    "        low = []\n",
    "        high = []\n",
    "        result = []\n",
    "        for i in intervals:\n",
    "            #print(i[0])\n",
    "            low.append(i[0])\n",
    "            high.append(i[1])\n",
    "        temp = high[0]\n",
    "        lo = 0\n",
    "        for i in range(1, len(low)):\n",
    "            if temp > low[i]:\n",
    "                temp = high[i]\n",
    "   #             key = i \n",
    "            else:\n",
    "                result.append([low[lo], high[i-1]])\n",
    "                lo = i\n",
    "        return (result)\n"
   ]
  },
  {
   "cell_type": "code",
   "execution_count": 94,
   "metadata": {},
   "outputs": [],
   "source": [
    "b = Solution()"
   ]
  },
  {
   "cell_type": "code",
   "execution_count": 95,
   "metadata": {},
   "outputs": [
    {
     "data": {
      "text/plain": [
       "[[1, 7], [8, 10]]"
      ]
     },
     "execution_count": 95,
     "metadata": {},
     "output_type": "execute_result"
    }
   ],
   "source": [
    "b.merge(intervals)"
   ]
  },
  {
   "cell_type": "code",
   "execution_count": 128,
   "metadata": {},
   "outputs": [],
   "source": [
    "s = [\"h\",\"e\",\"l\",\"l\",\"o\"]"
   ]
  },
  {
   "cell_type": "code",
   "execution_count": 131,
   "metadata": {},
   "outputs": [],
   "source": [
    "class Solution:\n",
    "    def reverseString(self, s: List[str]) -> None:\n",
    "        n = len(s)\n",
    "        k = []\n",
    "        for i in range(n-1, -1, -1):\n",
    "            k.append(s[i])\n",
    "            print(f'val is {n-i-1}, {k[n-i-1]}')\n",
    "        s = k\n",
    "        print(s)"
   ]
  },
  {
   "cell_type": "code",
   "execution_count": 132,
   "metadata": {},
   "outputs": [
    {
     "name": "stdout",
     "output_type": "stream",
     "text": [
      "val is 0, o\n",
      "val is 1, l\n",
      "val is 2, l\n",
      "val is 3, e\n",
      "val is 4, h\n",
      "['o', 'l', 'l', 'e', 'h']\n"
     ]
    }
   ],
   "source": [
    "z = Solution()\n",
    "z.reverseString(s)"
   ]
  },
  {
   "cell_type": "code",
   "execution_count": 133,
   "metadata": {},
   "outputs": [],
   "source": [
    "s = \"anagram\""
   ]
  },
  {
   "cell_type": "code",
   "execution_count": 134,
   "metadata": {},
   "outputs": [
    {
     "data": {
      "text/plain": [
       "{'a', 'g', 'm', 'n', 'r'}"
      ]
     },
     "execution_count": 134,
     "metadata": {},
     "output_type": "execute_result"
    }
   ],
   "source": [
    "set(s) "
   ]
  },
  {
   "cell_type": "code",
   "execution_count": 21,
   "metadata": {},
   "outputs": [],
   "source": [
    "class Solution:\n",
    "    def countDaysTogether(self, arriveAlice: str, leaveAlice: str, arriveBob: str, leaveBob: str) -> int:\n",
    "        days = [31, 28, 31, 30, 31, 30, 31, 31, 30, 31, 30, 31]\n",
    "        maA, daA = int(arriveAlice[:2]), int(arriveAlice[3:])\n",
    "        mlA, dlA = int(leaveAlice[:2]), int(leaveAlice[3:])\n",
    "        maM, daM = int(arriveBob[:2]), int(arriveBob[3:])\n",
    "        mlM, dlM = int(leaveBob[:2]), int(leaveBob[3:])\n",
    "        dl = da = 0 \n",
    "        # choose the later max - arrival and first - min departure  \n",
    "        #print(daA)\n",
    "        if maM == maA:\n",
    "            da = max(daA, daM)\n",
    "        #print(da)\n",
    "        if mlA == mlM:\n",
    "            dl = min(dlA, dlM)  \n",
    "        #print(dl)\n",
    "        return (dl - da+1)    "
   ]
  },
  {
   "cell_type": "code",
   "execution_count": 13,
   "metadata": {},
   "outputs": [],
   "source": [
    "arriveAlice = \"08-15\"\n",
    "leaveAlice = \"08-18\"\n",
    "arriveBob = \"08-16\"\n",
    "leaveBob = \"08-19\""
   ]
  },
  {
   "cell_type": "code",
   "execution_count": 22,
   "metadata": {},
   "outputs": [
    {
     "name": "stdout",
     "output_type": "stream",
     "text": [
      "15\n",
      "16\n",
      "18\n"
     ]
    },
    {
     "data": {
      "text/plain": [
       "3"
      ]
     },
     "execution_count": 22,
     "metadata": {},
     "output_type": "execute_result"
    }
   ],
   "source": [
    "m = Solution()\n",
    "m.countDaysTogether(arriveAlice = \"08-15\", leaveAlice = \"08-18\", arriveBob = \"08-16\", leaveBob = \"08-19\")"
   ]
  },
  {
   "cell_type": "code",
   "execution_count": 23,
   "metadata": {},
   "outputs": [],
   "source": [
    "class Solution:\n",
    "    def isPalindrome(self, x: int) -> bool:\n",
    "        k = str(x)\n",
    "        l = len(k)\n",
    "        print(l)\n",
    "        if l//2 != 0:\n",
    "            l = len(k)//2\n",
    " #           print(k[0:l], l[l:])\n",
    "            if k[0:l] == k[l+1:] :\n",
    "                return True\n",
    "            else:\n",
    "                return False \n",
    "        else:\n",
    "            l = (len(k)+1)//2\n",
    "            if k[:l] == k[l+1:]:\n",
    "                return True\n",
    "            else:\n",
    "                return False \n"
   ]
  },
  {
   "cell_type": "code",
   "execution_count": 24,
   "metadata": {},
   "outputs": [
    {
     "name": "stdout",
     "output_type": "stream",
     "text": [
      "3\n"
     ]
    },
    {
     "data": {
      "text/plain": [
       "True"
      ]
     },
     "execution_count": 24,
     "metadata": {},
     "output_type": "execute_result"
    }
   ],
   "source": [
    "x = 121\n",
    "m = Solution()\n",
    "m.isPalindrome(x)"
   ]
  },
  {
   "cell_type": "code",
   "execution_count": 25,
   "metadata": {},
   "outputs": [],
   "source": [
    "n = str(x)"
   ]
  },
  {
   "cell_type": "code",
   "execution_count": 22,
   "metadata": {},
   "outputs": [
    {
     "data": {
      "text/plain": [
       "'21'"
      ]
     },
     "execution_count": 22,
     "metadata": {},
     "output_type": "execute_result"
    }
   ],
   "source": [
    "n[1:]"
   ]
  },
  {
   "cell_type": "code",
   "execution_count": 26,
   "metadata": {},
   "outputs": [],
   "source": [
    "        k = {\n",
    "            1 : 1,\n",
    "            5: 25, \n",
    "            10: 100,\n",
    "            50: 2500,\n",
    "            100:10000,\n",
    "            500: 250000,\n",
    "            1000: 1000000\n",
    "        }"
   ]
  },
  {
   "cell_type": "code",
   "execution_count": 46,
   "metadata": {},
   "outputs": [
    {
     "name": "stdout",
     "output_type": "stream",
     "text": [
      "1 1\n",
      "5 25\n",
      "10 100\n",
      "50 2500\n",
      "100 10000\n",
      "500 250000\n",
      "1000 1000000\n"
     ]
    }
   ],
   "source": [
    "for i,j in k.items():\n",
    "    print(i,j)"
   ]
  },
  {
   "cell_type": "code",
   "execution_count": 44,
   "metadata": {},
   "outputs": [
    {
     "ename": "KeyError",
     "evalue": "2",
     "output_type": "error",
     "traceback": [
      "\u001b[0;31m---------------------------------------------------------------------------\u001b[0m",
      "\u001b[0;31mKeyError\u001b[0m                                  Traceback (most recent call last)",
      "Cell \u001b[0;32mIn[44], line 1\u001b[0m\n\u001b[0;32m----> 1\u001b[0m k[\u001b[39m2\u001b[39;49m]\n",
      "\u001b[0;31mKeyError\u001b[0m: 2"
     ]
    }
   ],
   "source": [
    "k[2]"
   ]
  },
  {
   "cell_type": "code",
   "execution_count": 5,
   "metadata": {},
   "outputs": [
    {
     "name": "stdout",
     "output_type": "stream",
     "text": [
      "0-1+2+3\n",
      "0+1+2-3\n",
      "0-1-2-3\n"
     ]
    }
   ],
   "source": [
    "import random\n",
    "i = ['+', '-']\n",
    "\n",
    "\n",
    "# given that there are 2 signs and n numbers, I expect n = len() n(n-1)/2 different combinations. So, lets break out when we find that many sequences. \n",
    "b = [1, 2, 3]\n",
    "k = []\n",
    "t = len(b)\n",
    "m = t*(t-1)/2\n",
    "while len(k) < m:\n",
    "    z = []\n",
    "    for j in b:\n",
    "        l = random.choice(i)\n",
    "        z.append(l)\n",
    "    if z not in k:\n",
    "        k.append(z)\n",
    "\n",
    "for l in k:\n",
    "    m = '0' \n",
    "    for i in range(len(b)):\n",
    "        m1 = l[i] + str(b[i])\n",
    "        m += m1\n",
    "    print(m)\n",
    "        \n"
   ]
  },
  {
   "cell_type": "code",
   "execution_count": null,
   "metadata": {},
   "outputs": [],
   "source": []
  }
 ],
 "metadata": {
  "kernelspec": {
   "display_name": "base",
   "language": "python",
   "name": "python3"
  },
  "language_info": {
   "codemirror_mode": {
    "name": "ipython",
    "version": 3
   },
   "file_extension": ".py",
   "mimetype": "text/x-python",
   "name": "python",
   "nbconvert_exporter": "python",
   "pygments_lexer": "ipython3",
   "version": "3.11.4"
  },
  "orig_nbformat": 4
 },
 "nbformat": 4,
 "nbformat_minor": 2
}
