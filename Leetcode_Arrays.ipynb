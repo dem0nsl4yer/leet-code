{
 "cells": [
  {
   "cell_type": "markdown",
   "metadata": {},
   "source": [
    "Two SUM:\n"
   ]
  },
  {
   "cell_type": "code",
   "execution_count": null,
   "metadata": {},
   "outputs": [],
   "source": [
    "class Solution:\n",
    "    def twoSum(self, nums: List[int], target: int) -> List[int]:\n",
    "        #hashmap = {i:nums.index(i) for i in nums}\n",
    "        z = {}\n",
    "        for i, x in enumerate(nums):\n",
    "            if x in z:\n",
    "                z[x].append(i)\n",
    "            else:\n",
    "                z[x] = [i]\n",
    "        for i in nums:\n",
    "            if target-i in nums:\n",
    "                if target-i == i:\n",
    "                    if len(z[i]) > 1:\n",
    "                        return z[i]\n",
    "                    continue\n",
    "                else: \n",
    "                    return [z[i][0], z[target-i][0]]\n",
    "                \n",
    "                \n",
    "        "
   ]
  },
  {
   "cell_type": "code",
   "execution_count": null,
   "metadata": {},
   "outputs": [],
   "source": [
    "class Solution:\n",
    "    def twoSum(self, nums: List[int], target: int) -> List[int]:\n",
    "        #hashmap = {i:nums.index(i) for i in nums}\n",
    "        mem = {}\n",
    "        for i, x in enumerate(nums):\n",
    "            if x in mem:\n",
    "                return [i, mem[x]]\n",
    "            else:\n",
    "                mem[target-x] = i  "
   ]
  }
 ],
 "metadata": {
  "language_info": {
   "name": "python"
  },
  "orig_nbformat": 4
 },
 "nbformat": 4,
 "nbformat_minor": 2
}
